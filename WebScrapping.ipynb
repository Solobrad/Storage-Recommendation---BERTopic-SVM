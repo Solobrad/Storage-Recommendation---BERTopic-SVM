{
 "cells": [
  {
   "cell_type": "code",
   "execution_count": 25,
   "id": "17582990",
   "metadata": {},
   "outputs": [],
   "source": [
    "import time\n",
    "import logging\n",
    "from selenium import webdriver\n",
    "from selenium.webdriver.firefox.options import Options\n",
    "from selenium.webdriver.firefox.service import Service\n",
    "from selenium.webdriver.support.ui import WebDriverWait\n",
    "from selenium.webdriver.support import expected_conditions as EC\n",
    "from selenium.webdriver.common.by import By\n",
    "import pandas as pd\n",
    "import os"
   ]
  },
  {
   "cell_type": "code",
   "execution_count": 11,
   "id": "9fb1046b",
   "metadata": {},
   "outputs": [],
   "source": [
    "#### 1. Import modules\n",
    "\n",
    "from selenium import webdriver\n",
    "#from selenium.webdriver.chrome.service import Service\n",
    "from selenium.webdriver.firefox.options import Options # 1. import modulesns\n",
    "from selenium.webdriver.firefox.service import Service\n",
    "from selenium.webdriver.support.ui import WebDriverWait\n",
    "from selenium.webdriver.support import expected_conditions as EC\n",
    "from selenium.webdriver.common.by import By\n",
    "from selenium.common.exceptions import NoSuchElementException, TimeoutException, ElementClickInterceptedException\n",
    "import pandas as pd\n",
    "import os\n",
    "\n",
    "#### 2. Define the Gecko driver\n",
    "\n"
   ]
  },
  {
   "cell_type": "code",
   "execution_count": 12,
   "id": "fe4f3403",
   "metadata": {},
   "outputs": [],
   "source": [
    "options = Options()\n",
    "options.binary_location = r'C:\\Program Files\\Mozilla Firefox\\firefox.exe'\n",
    "\n",
    "options.add_argument(\"--lang=en-US\")\n",
    "\n",
    "# ban the picture and css for faster speed\n",
    "#prefs = {\"profile.managed_default_content_settings.images\": 2, 'permissions.default.stylesheet': 2}\n",
    "#options.add_experimental_option(\"prefs\", prefs)\n",
    "\n",
    "# dirver initialization\n",
    "# remember the geck0 driver location\n",
    "# C:\\Users\\V530\\Downloads\\chromedriver.exe\"\n",
    "driver = webdriver.Firefox(service=Service(r'C:\\Program Files (x86)\\geckodriver.exe'),options=options)\n",
    "driver.set_page_load_timeout(10)\n",
    "\n",
    "#### 3. Define the weblist you want to scrape\n",
    "\n"
   ]
  },
  {
   "cell_type": "code",
   "execution_count": 30,
   "id": "c2743847",
   "metadata": {},
   "outputs": [],
   "source": [
    "#folder to store the scraped reviews\n",
    "product_folder = 'C:/Users/ASUS/Desktop/NLP/research'\n",
    "brand = 'Toshiba'\n",
    "model = '43\" Class C350 Series LED 4K UHD Smart Fire TV'\n",
    "\n",
    "web_dict = {\n",
    "    'Toshiba - 43\" Class C350 Series LED 4K UHD Smart Fire TV':\"https://www.bestbuy.com/site/reviews/toshiba-43-class-c350-series-led-4k-uhd-smart-fire-tv/6532119?variant=A&sort=MOST_RECENT\"\n",
    "}\n",
    "\n",
    "# define the maxinum page for reviews or you need (try exception module)\n",
    "web_pages = {\n",
    "    'Toshiba - 43\" Class C350 Series LED 4K UHD Smart Fire TV': 3 #change this number to the \"(total reviews/20) + 1\" you want to scrape, i.e. if there are 3000 reviews to scrape, then this value is (3000/20) + 1= 151\n",
    "}\n",
    "\n",
    "# A page have about 10 reviews, sometimes i face problems\n",
    "    # you for 6460 reviews, set 646\n",
    "        \n",
    "    # for 4590 reviews, set 459 page\n",
    "\n"
   ]
  },
  {
   "cell_type": "code",
   "execution_count": 29,
   "id": "695eef30",
   "metadata": {},
   "outputs": [],
   "source": [
    "# Define the data to scrape\n",
    "css_path_reviews = \"[class='review-item-content col-xs-12 col-md-9']\"\n",
    "css_path_review_text = \"[class='ugc-review-body'] > p\"\n",
    "css_path_review_date = \"[class='posted-date-ownership disclaimer v-m-right-xxs'] > [class='submission-date']\"\n",
    "\n",
    "# Initialize the Firefox WebDriver\n",
    "driver = webdriver.Firefox(service=Service(r'C:\\Program Files (x86)\\geckodriver.exe'), options=options)\n",
    "driver.set_page_load_timeout(30)\n",
    "\n",
    "# Scrape the reviews\n",
    "for name, url in web_dict.items():\n",
    "    reviews_list = []\n",
    "    for i in range(1, web_pages[name] + 1):  # Adjust range to include the last page\n",
    "        try:\n",
    "            driver.get(url + str(i))\n",
    "            logging.info(f\"Page {i}: {driver.current_url}\")\n",
    "            WebDriverWait(driver, 200).until(EC.presence_of_element_located((By.CSS_SELECTOR, css_path_reviews)))\n",
    "            review_elements = driver.find_elements(By.CSS_SELECTOR, css_path_reviews)\n",
    "            for j, element in enumerate(review_elements, start=1):\n",
    "                try:\n",
    "                    child_element_text = element.find_element(By.CSS_SELECTOR, css_path_review_text)\n",
    "                    child_element_date = element.find_element(By.CSS_SELECTOR, css_path_review_date)\n",
    "                    date = child_element_date.get_attribute(\"title\")\n",
    "                    reviews_list.append({'brand': brand, 'model': model, 'product': name, 'date': date, 'review': child_element_text.text})\n",
    "                    logging.info(f\"Review {j} on page {i} extracted\")\n",
    "                except NoSuchElementException:\n",
    "                    logging.error(f\"Error extracting review {j} on page {i}: element not found\")\n",
    "        except TimeoutException:\n",
    "            logging.error(f\"Page {i} timed out\")\n",
    "    # Save the DataFrame to the file path\n",
    "    file_path = os.path.join(product_folder, name.replace('/', '-').replace('\"', '-') + \".csv\")\n",
    "    pd.DataFrame(reviews_list).to_csv(file_path, index=False)\n",
    "    logging.info(f\"Reviews saved to {file_path}\")\n",
    "\n",
    "# Close the WebDriver session\n",
    "driver.quit()"
   ]
  },
  {
   "cell_type": "code",
   "execution_count": null,
   "id": "2ac92bc7",
   "metadata": {},
   "outputs": [],
   "source": []
  },
  {
   "cell_type": "code",
   "execution_count": null,
   "id": "d6bc0113",
   "metadata": {},
   "outputs": [],
   "source": []
  },
  {
   "cell_type": "code",
   "execution_count": null,
   "id": "621c0968",
   "metadata": {},
   "outputs": [],
   "source": []
  },
  {
   "cell_type": "code",
   "execution_count": null,
   "id": "fc72a55b",
   "metadata": {},
   "outputs": [],
   "source": []
  }
 ],
 "metadata": {
  "kernelspec": {
   "display_name": "Python 3 (ipykernel)",
   "language": "python",
   "name": "python3"
  },
  "language_info": {
   "codemirror_mode": {
    "name": "ipython",
    "version": 3
   },
   "file_extension": ".py",
   "mimetype": "text/x-python",
   "name": "python",
   "nbconvert_exporter": "python",
   "pygments_lexer": "ipython3",
   "version": "3.9.12"
  }
 },
 "nbformat": 4,
 "nbformat_minor": 5
}
